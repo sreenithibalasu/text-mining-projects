{
  "nbformat": 4,
  "nbformat_minor": 0,
  "metadata": {
    "colab": {
      "name": "balasubramanian-sreenithi-assignment-2.ipynb",
      "provenance": [],
      "collapsed_sections": []
    },
    "kernelspec": {
      "name": "python3",
      "display_name": "Python 3"
    },
    "language_info": {
      "name": "python"
    }
  },
  "cells": [
    {
      "cell_type": "markdown",
      "source": [
        "# Assignment 2- Sentiment Analysis\n"
      ],
      "metadata": {
        "id": "4o169fqimhMG"
      }
    },
    {
      "cell_type": "code",
      "source": [
        "!pip install vaderSentiment"
      ],
      "metadata": {
        "colab": {
          "base_uri": "https://localhost:8080/"
        },
        "id": "nQ9M7j72qC1_",
        "outputId": "e1587d8a-6d78-43dc-dca1-9cce3102f971"
      },
      "execution_count": 1,
      "outputs": [
        {
          "output_type": "stream",
          "name": "stdout",
          "text": [
            "Requirement already satisfied: vaderSentiment in /usr/local/lib/python3.7/dist-packages (3.3.2)\n",
            "Requirement already satisfied: requests in /usr/local/lib/python3.7/dist-packages (from vaderSentiment) (2.23.0)\n",
            "Requirement already satisfied: chardet<4,>=3.0.2 in /usr/local/lib/python3.7/dist-packages (from requests->vaderSentiment) (3.0.4)\n",
            "Requirement already satisfied: idna<3,>=2.5 in /usr/local/lib/python3.7/dist-packages (from requests->vaderSentiment) (2.10)\n",
            "Requirement already satisfied: urllib3!=1.25.0,!=1.25.1,<1.26,>=1.21.1 in /usr/local/lib/python3.7/dist-packages (from requests->vaderSentiment) (1.24.3)\n",
            "Requirement already satisfied: certifi>=2017.4.17 in /usr/local/lib/python3.7/dist-packages (from requests->vaderSentiment) (2021.10.8)\n"
          ]
        }
      ]
    },
    {
      "cell_type": "markdown",
      "source": [
        "## Import necessary packages and libraries"
      ],
      "metadata": {
        "id": "8ve0n2OQnD5f"
      }
    },
    {
      "cell_type": "code",
      "execution_count": 2,
      "metadata": {
        "id": "fKqHBECsk_3a"
      },
      "outputs": [],
      "source": [
        "import pandas as pd\n",
        "import numpy as np\n",
        "import os\n",
        "\n",
        "import nltk\n",
        "from vaderSentiment.vaderSentiment import SentimentIntensityAnalyzer\n",
        "\n",
        "#confusion matrix\n",
        "from sklearn.metrics import confusion_matrix, classification_report,  accuracy_score\n",
        "import re\n",
        "\n",
        "import warnings\n",
        "warnings.filterwarnings('ignore')"
      ]
    },
    {
      "cell_type": "markdown",
      "source": [
        "## Load dataset\n",
        "\n",
        "- The dataset I've chosen today is the US Twitter Airline Sentiment dataset\n",
        "- Link: https://www.kaggle.com/datasets/crowdflower/twitter-airline-sentiment"
      ],
      "metadata": {
        "id": "eO_sYcYgnMA8"
      }
    },
    {
      "cell_type": "code",
      "source": [
        "file_path = './Tweets.csv'"
      ],
      "metadata": {
        "id": "I0R96xzsnvf0"
      },
      "execution_count": 3,
      "outputs": []
    },
    {
      "cell_type": "code",
      "source": [
        "df = pd.read_csv(file_path)"
      ],
      "metadata": {
        "id": "_7sUZwbDnzx6"
      },
      "execution_count": 4,
      "outputs": []
    },
    {
      "cell_type": "code",
      "source": [
        "df.head()"
      ],
      "metadata": {
        "colab": {
          "base_uri": "https://localhost:8080/",
          "height": 496
        },
        "id": "VhiOHexEn4b2",
        "outputId": "7da6ed38-8718-4f07-cb36-273571cb7153"
      },
      "execution_count": 5,
      "outputs": [
        {
          "output_type": "execute_result",
          "data": {
            "text/plain": [
              "             tweet_id airline_sentiment  airline_sentiment_confidence  \\\n",
              "0  570306133677760513           neutral                        1.0000   \n",
              "1  570301130888122368          positive                        0.3486   \n",
              "2  570301083672813571           neutral                        0.6837   \n",
              "3  570301031407624196          negative                        1.0000   \n",
              "4  570300817074462722          negative                        1.0000   \n",
              "\n",
              "  negativereason  negativereason_confidence         airline  \\\n",
              "0            NaN                        NaN  Virgin America   \n",
              "1            NaN                     0.0000  Virgin America   \n",
              "2            NaN                        NaN  Virgin America   \n",
              "3     Bad Flight                     0.7033  Virgin America   \n",
              "4     Can't Tell                     1.0000  Virgin America   \n",
              "\n",
              "  airline_sentiment_gold        name negativereason_gold  retweet_count  \\\n",
              "0                    NaN     cairdin                 NaN              0   \n",
              "1                    NaN    jnardino                 NaN              0   \n",
              "2                    NaN  yvonnalynn                 NaN              0   \n",
              "3                    NaN    jnardino                 NaN              0   \n",
              "4                    NaN    jnardino                 NaN              0   \n",
              "\n",
              "                                                text tweet_coord  \\\n",
              "0                @VirginAmerica What @dhepburn said.         NaN   \n",
              "1  @VirginAmerica plus you've added commercials t...         NaN   \n",
              "2  @VirginAmerica I didn't today... Must mean I n...         NaN   \n",
              "3  @VirginAmerica it's really aggressive to blast...         NaN   \n",
              "4  @VirginAmerica and it's a really big bad thing...         NaN   \n",
              "\n",
              "               tweet_created tweet_location               user_timezone  \n",
              "0  2015-02-24 11:35:52 -0800            NaN  Eastern Time (US & Canada)  \n",
              "1  2015-02-24 11:15:59 -0800            NaN  Pacific Time (US & Canada)  \n",
              "2  2015-02-24 11:15:48 -0800      Lets Play  Central Time (US & Canada)  \n",
              "3  2015-02-24 11:15:36 -0800            NaN  Pacific Time (US & Canada)  \n",
              "4  2015-02-24 11:14:45 -0800            NaN  Pacific Time (US & Canada)  "
            ],
            "text/html": [
              "\n",
              "  <div id=\"df-23647fc9-a2c3-41ac-8e58-f626d5a7e911\">\n",
              "    <div class=\"colab-df-container\">\n",
              "      <div>\n",
              "<style scoped>\n",
              "    .dataframe tbody tr th:only-of-type {\n",
              "        vertical-align: middle;\n",
              "    }\n",
              "\n",
              "    .dataframe tbody tr th {\n",
              "        vertical-align: top;\n",
              "    }\n",
              "\n",
              "    .dataframe thead th {\n",
              "        text-align: right;\n",
              "    }\n",
              "</style>\n",
              "<table border=\"1\" class=\"dataframe\">\n",
              "  <thead>\n",
              "    <tr style=\"text-align: right;\">\n",
              "      <th></th>\n",
              "      <th>tweet_id</th>\n",
              "      <th>airline_sentiment</th>\n",
              "      <th>airline_sentiment_confidence</th>\n",
              "      <th>negativereason</th>\n",
              "      <th>negativereason_confidence</th>\n",
              "      <th>airline</th>\n",
              "      <th>airline_sentiment_gold</th>\n",
              "      <th>name</th>\n",
              "      <th>negativereason_gold</th>\n",
              "      <th>retweet_count</th>\n",
              "      <th>text</th>\n",
              "      <th>tweet_coord</th>\n",
              "      <th>tweet_created</th>\n",
              "      <th>tweet_location</th>\n",
              "      <th>user_timezone</th>\n",
              "    </tr>\n",
              "  </thead>\n",
              "  <tbody>\n",
              "    <tr>\n",
              "      <th>0</th>\n",
              "      <td>570306133677760513</td>\n",
              "      <td>neutral</td>\n",
              "      <td>1.0000</td>\n",
              "      <td>NaN</td>\n",
              "      <td>NaN</td>\n",
              "      <td>Virgin America</td>\n",
              "      <td>NaN</td>\n",
              "      <td>cairdin</td>\n",
              "      <td>NaN</td>\n",
              "      <td>0</td>\n",
              "      <td>@VirginAmerica What @dhepburn said.</td>\n",
              "      <td>NaN</td>\n",
              "      <td>2015-02-24 11:35:52 -0800</td>\n",
              "      <td>NaN</td>\n",
              "      <td>Eastern Time (US &amp; Canada)</td>\n",
              "    </tr>\n",
              "    <tr>\n",
              "      <th>1</th>\n",
              "      <td>570301130888122368</td>\n",
              "      <td>positive</td>\n",
              "      <td>0.3486</td>\n",
              "      <td>NaN</td>\n",
              "      <td>0.0000</td>\n",
              "      <td>Virgin America</td>\n",
              "      <td>NaN</td>\n",
              "      <td>jnardino</td>\n",
              "      <td>NaN</td>\n",
              "      <td>0</td>\n",
              "      <td>@VirginAmerica plus you've added commercials t...</td>\n",
              "      <td>NaN</td>\n",
              "      <td>2015-02-24 11:15:59 -0800</td>\n",
              "      <td>NaN</td>\n",
              "      <td>Pacific Time (US &amp; Canada)</td>\n",
              "    </tr>\n",
              "    <tr>\n",
              "      <th>2</th>\n",
              "      <td>570301083672813571</td>\n",
              "      <td>neutral</td>\n",
              "      <td>0.6837</td>\n",
              "      <td>NaN</td>\n",
              "      <td>NaN</td>\n",
              "      <td>Virgin America</td>\n",
              "      <td>NaN</td>\n",
              "      <td>yvonnalynn</td>\n",
              "      <td>NaN</td>\n",
              "      <td>0</td>\n",
              "      <td>@VirginAmerica I didn't today... Must mean I n...</td>\n",
              "      <td>NaN</td>\n",
              "      <td>2015-02-24 11:15:48 -0800</td>\n",
              "      <td>Lets Play</td>\n",
              "      <td>Central Time (US &amp; Canada)</td>\n",
              "    </tr>\n",
              "    <tr>\n",
              "      <th>3</th>\n",
              "      <td>570301031407624196</td>\n",
              "      <td>negative</td>\n",
              "      <td>1.0000</td>\n",
              "      <td>Bad Flight</td>\n",
              "      <td>0.7033</td>\n",
              "      <td>Virgin America</td>\n",
              "      <td>NaN</td>\n",
              "      <td>jnardino</td>\n",
              "      <td>NaN</td>\n",
              "      <td>0</td>\n",
              "      <td>@VirginAmerica it's really aggressive to blast...</td>\n",
              "      <td>NaN</td>\n",
              "      <td>2015-02-24 11:15:36 -0800</td>\n",
              "      <td>NaN</td>\n",
              "      <td>Pacific Time (US &amp; Canada)</td>\n",
              "    </tr>\n",
              "    <tr>\n",
              "      <th>4</th>\n",
              "      <td>570300817074462722</td>\n",
              "      <td>negative</td>\n",
              "      <td>1.0000</td>\n",
              "      <td>Can't Tell</td>\n",
              "      <td>1.0000</td>\n",
              "      <td>Virgin America</td>\n",
              "      <td>NaN</td>\n",
              "      <td>jnardino</td>\n",
              "      <td>NaN</td>\n",
              "      <td>0</td>\n",
              "      <td>@VirginAmerica and it's a really big bad thing...</td>\n",
              "      <td>NaN</td>\n",
              "      <td>2015-02-24 11:14:45 -0800</td>\n",
              "      <td>NaN</td>\n",
              "      <td>Pacific Time (US &amp; Canada)</td>\n",
              "    </tr>\n",
              "  </tbody>\n",
              "</table>\n",
              "</div>\n",
              "      <button class=\"colab-df-convert\" onclick=\"convertToInteractive('df-23647fc9-a2c3-41ac-8e58-f626d5a7e911')\"\n",
              "              title=\"Convert this dataframe to an interactive table.\"\n",
              "              style=\"display:none;\">\n",
              "        \n",
              "  <svg xmlns=\"http://www.w3.org/2000/svg\" height=\"24px\"viewBox=\"0 0 24 24\"\n",
              "       width=\"24px\">\n",
              "    <path d=\"M0 0h24v24H0V0z\" fill=\"none\"/>\n",
              "    <path d=\"M18.56 5.44l.94 2.06.94-2.06 2.06-.94-2.06-.94-.94-2.06-.94 2.06-2.06.94zm-11 1L8.5 8.5l.94-2.06 2.06-.94-2.06-.94L8.5 2.5l-.94 2.06-2.06.94zm10 10l.94 2.06.94-2.06 2.06-.94-2.06-.94-.94-2.06-.94 2.06-2.06.94z\"/><path d=\"M17.41 7.96l-1.37-1.37c-.4-.4-.92-.59-1.43-.59-.52 0-1.04.2-1.43.59L10.3 9.45l-7.72 7.72c-.78.78-.78 2.05 0 2.83L4 21.41c.39.39.9.59 1.41.59.51 0 1.02-.2 1.41-.59l7.78-7.78 2.81-2.81c.8-.78.8-2.07 0-2.86zM5.41 20L4 18.59l7.72-7.72 1.47 1.35L5.41 20z\"/>\n",
              "  </svg>\n",
              "      </button>\n",
              "      \n",
              "  <style>\n",
              "    .colab-df-container {\n",
              "      display:flex;\n",
              "      flex-wrap:wrap;\n",
              "      gap: 12px;\n",
              "    }\n",
              "\n",
              "    .colab-df-convert {\n",
              "      background-color: #E8F0FE;\n",
              "      border: none;\n",
              "      border-radius: 50%;\n",
              "      cursor: pointer;\n",
              "      display: none;\n",
              "      fill: #1967D2;\n",
              "      height: 32px;\n",
              "      padding: 0 0 0 0;\n",
              "      width: 32px;\n",
              "    }\n",
              "\n",
              "    .colab-df-convert:hover {\n",
              "      background-color: #E2EBFA;\n",
              "      box-shadow: 0px 1px 2px rgba(60, 64, 67, 0.3), 0px 1px 3px 1px rgba(60, 64, 67, 0.15);\n",
              "      fill: #174EA6;\n",
              "    }\n",
              "\n",
              "    [theme=dark] .colab-df-convert {\n",
              "      background-color: #3B4455;\n",
              "      fill: #D2E3FC;\n",
              "    }\n",
              "\n",
              "    [theme=dark] .colab-df-convert:hover {\n",
              "      background-color: #434B5C;\n",
              "      box-shadow: 0px 1px 3px 1px rgba(0, 0, 0, 0.15);\n",
              "      filter: drop-shadow(0px 1px 2px rgba(0, 0, 0, 0.3));\n",
              "      fill: #FFFFFF;\n",
              "    }\n",
              "  </style>\n",
              "\n",
              "      <script>\n",
              "        const buttonEl =\n",
              "          document.querySelector('#df-23647fc9-a2c3-41ac-8e58-f626d5a7e911 button.colab-df-convert');\n",
              "        buttonEl.style.display =\n",
              "          google.colab.kernel.accessAllowed ? 'block' : 'none';\n",
              "\n",
              "        async function convertToInteractive(key) {\n",
              "          const element = document.querySelector('#df-23647fc9-a2c3-41ac-8e58-f626d5a7e911');\n",
              "          const dataTable =\n",
              "            await google.colab.kernel.invokeFunction('convertToInteractive',\n",
              "                                                     [key], {});\n",
              "          if (!dataTable) return;\n",
              "\n",
              "          const docLinkHtml = 'Like what you see? Visit the ' +\n",
              "            '<a target=\"_blank\" href=https://colab.research.google.com/notebooks/data_table.ipynb>data table notebook</a>'\n",
              "            + ' to learn more about interactive tables.';\n",
              "          element.innerHTML = '';\n",
              "          dataTable['output_type'] = 'display_data';\n",
              "          await google.colab.output.renderOutput(dataTable, element);\n",
              "          const docLink = document.createElement('div');\n",
              "          docLink.innerHTML = docLinkHtml;\n",
              "          element.appendChild(docLink);\n",
              "        }\n",
              "      </script>\n",
              "    </div>\n",
              "  </div>\n",
              "  "
            ]
          },
          "metadata": {},
          "execution_count": 5
        }
      ]
    },
    {
      "cell_type": "markdown",
      "source": [
        "## Filter out necessary columns\n",
        "\n",
        "- Columns we want:\n",
        "  - `airline_sentiment`: containing ground truth sentiment for a given text review\n",
        "  - `text`:  original tweet containing text of airline review"
      ],
      "metadata": {
        "id": "yGRYwIF1nPqu"
      }
    },
    {
      "cell_type": "code",
      "source": [
        "df_tweets = df[['airline_sentiment', 'text']]"
      ],
      "metadata": {
        "id": "3GFiRQGXQT60"
      },
      "execution_count": 6,
      "outputs": []
    },
    {
      "cell_type": "markdown",
      "source": [
        "## Sentiment classes\n",
        "- positive\n",
        "- negative\n",
        "- neutral"
      ],
      "metadata": {
        "id": "EFWDofm3nfY5"
      }
    },
    {
      "cell_type": "code",
      "source": [
        "df_tweets['airline_sentiment'].value_counts()"
      ],
      "metadata": {
        "colab": {
          "base_uri": "https://localhost:8080/"
        },
        "id": "YqX_FxvdncSf",
        "outputId": "0e188dc5-4ebf-4d85-ffdc-d4a0f92ed6a7"
      },
      "execution_count": 7,
      "outputs": [
        {
          "output_type": "execute_result",
          "data": {
            "text/plain": [
              "negative    9178\n",
              "neutral     3099\n",
              "positive    2363\n",
              "Name: airline_sentiment, dtype: int64"
            ]
          },
          "metadata": {},
          "execution_count": 7
        }
      ]
    },
    {
      "cell_type": "markdown",
      "source": [
        "## Work Done\n",
        "- Run VADER on the dataset without any preprocessing steps - I feed the raw twitter data including special characters\n",
        "- Run VADER after performing some preprocessing steps"
      ],
      "metadata": {
        "id": "MBTBWHdkkPUj"
      }
    },
    {
      "cell_type": "markdown",
      "source": [
        "# Part 1"
      ],
      "metadata": {
        "id": "cCttTKZTYtyH"
      }
    },
    {
      "cell_type": "markdown",
      "source": [
        "## VADER without preprocessing"
      ],
      "metadata": {
        "id": "x1qSu7AMe9gW"
      }
    },
    {
      "cell_type": "code",
      "source": [
        "df_tweets_og = df_tweets.copy()"
      ],
      "metadata": {
        "id": "vefPcGwBfgNo"
      },
      "execution_count": 8,
      "outputs": []
    },
    {
      "cell_type": "code",
      "source": [
        "df_tweets_og"
      ],
      "metadata": {
        "colab": {
          "base_uri": "https://localhost:8080/",
          "height": 423
        },
        "id": "sF4oHlthg76R",
        "outputId": "aeae05ed-a0f6-43a2-fb08-a76fd7119dab"
      },
      "execution_count": 9,
      "outputs": [
        {
          "output_type": "execute_result",
          "data": {
            "text/plain": [
              "      airline_sentiment                                               text\n",
              "0               neutral                @VirginAmerica What @dhepburn said.\n",
              "1              positive  @VirginAmerica plus you've added commercials t...\n",
              "2               neutral  @VirginAmerica I didn't today... Must mean I n...\n",
              "3              negative  @VirginAmerica it's really aggressive to blast...\n",
              "4              negative  @VirginAmerica and it's a really big bad thing...\n",
              "...                 ...                                                ...\n",
              "14635          positive  @AmericanAir thank you we got on a different f...\n",
              "14636          negative  @AmericanAir leaving over 20 minutes Late Flig...\n",
              "14637           neutral  @AmericanAir Please bring American Airlines to...\n",
              "14638          negative  @AmericanAir you have my money, you change my ...\n",
              "14639           neutral  @AmericanAir we have 8 ppl so we need 2 know h...\n",
              "\n",
              "[14640 rows x 2 columns]"
            ],
            "text/html": [
              "\n",
              "  <div id=\"df-f9dea6fc-1165-4bb5-8a05-900ce95738ac\">\n",
              "    <div class=\"colab-df-container\">\n",
              "      <div>\n",
              "<style scoped>\n",
              "    .dataframe tbody tr th:only-of-type {\n",
              "        vertical-align: middle;\n",
              "    }\n",
              "\n",
              "    .dataframe tbody tr th {\n",
              "        vertical-align: top;\n",
              "    }\n",
              "\n",
              "    .dataframe thead th {\n",
              "        text-align: right;\n",
              "    }\n",
              "</style>\n",
              "<table border=\"1\" class=\"dataframe\">\n",
              "  <thead>\n",
              "    <tr style=\"text-align: right;\">\n",
              "      <th></th>\n",
              "      <th>airline_sentiment</th>\n",
              "      <th>text</th>\n",
              "    </tr>\n",
              "  </thead>\n",
              "  <tbody>\n",
              "    <tr>\n",
              "      <th>0</th>\n",
              "      <td>neutral</td>\n",
              "      <td>@VirginAmerica What @dhepburn said.</td>\n",
              "    </tr>\n",
              "    <tr>\n",
              "      <th>1</th>\n",
              "      <td>positive</td>\n",
              "      <td>@VirginAmerica plus you've added commercials t...</td>\n",
              "    </tr>\n",
              "    <tr>\n",
              "      <th>2</th>\n",
              "      <td>neutral</td>\n",
              "      <td>@VirginAmerica I didn't today... Must mean I n...</td>\n",
              "    </tr>\n",
              "    <tr>\n",
              "      <th>3</th>\n",
              "      <td>negative</td>\n",
              "      <td>@VirginAmerica it's really aggressive to blast...</td>\n",
              "    </tr>\n",
              "    <tr>\n",
              "      <th>4</th>\n",
              "      <td>negative</td>\n",
              "      <td>@VirginAmerica and it's a really big bad thing...</td>\n",
              "    </tr>\n",
              "    <tr>\n",
              "      <th>...</th>\n",
              "      <td>...</td>\n",
              "      <td>...</td>\n",
              "    </tr>\n",
              "    <tr>\n",
              "      <th>14635</th>\n",
              "      <td>positive</td>\n",
              "      <td>@AmericanAir thank you we got on a different f...</td>\n",
              "    </tr>\n",
              "    <tr>\n",
              "      <th>14636</th>\n",
              "      <td>negative</td>\n",
              "      <td>@AmericanAir leaving over 20 minutes Late Flig...</td>\n",
              "    </tr>\n",
              "    <tr>\n",
              "      <th>14637</th>\n",
              "      <td>neutral</td>\n",
              "      <td>@AmericanAir Please bring American Airlines to...</td>\n",
              "    </tr>\n",
              "    <tr>\n",
              "      <th>14638</th>\n",
              "      <td>negative</td>\n",
              "      <td>@AmericanAir you have my money, you change my ...</td>\n",
              "    </tr>\n",
              "    <tr>\n",
              "      <th>14639</th>\n",
              "      <td>neutral</td>\n",
              "      <td>@AmericanAir we have 8 ppl so we need 2 know h...</td>\n",
              "    </tr>\n",
              "  </tbody>\n",
              "</table>\n",
              "<p>14640 rows × 2 columns</p>\n",
              "</div>\n",
              "      <button class=\"colab-df-convert\" onclick=\"convertToInteractive('df-f9dea6fc-1165-4bb5-8a05-900ce95738ac')\"\n",
              "              title=\"Convert this dataframe to an interactive table.\"\n",
              "              style=\"display:none;\">\n",
              "        \n",
              "  <svg xmlns=\"http://www.w3.org/2000/svg\" height=\"24px\"viewBox=\"0 0 24 24\"\n",
              "       width=\"24px\">\n",
              "    <path d=\"M0 0h24v24H0V0z\" fill=\"none\"/>\n",
              "    <path d=\"M18.56 5.44l.94 2.06.94-2.06 2.06-.94-2.06-.94-.94-2.06-.94 2.06-2.06.94zm-11 1L8.5 8.5l.94-2.06 2.06-.94-2.06-.94L8.5 2.5l-.94 2.06-2.06.94zm10 10l.94 2.06.94-2.06 2.06-.94-2.06-.94-.94-2.06-.94 2.06-2.06.94z\"/><path d=\"M17.41 7.96l-1.37-1.37c-.4-.4-.92-.59-1.43-.59-.52 0-1.04.2-1.43.59L10.3 9.45l-7.72 7.72c-.78.78-.78 2.05 0 2.83L4 21.41c.39.39.9.59 1.41.59.51 0 1.02-.2 1.41-.59l7.78-7.78 2.81-2.81c.8-.78.8-2.07 0-2.86zM5.41 20L4 18.59l7.72-7.72 1.47 1.35L5.41 20z\"/>\n",
              "  </svg>\n",
              "      </button>\n",
              "      \n",
              "  <style>\n",
              "    .colab-df-container {\n",
              "      display:flex;\n",
              "      flex-wrap:wrap;\n",
              "      gap: 12px;\n",
              "    }\n",
              "\n",
              "    .colab-df-convert {\n",
              "      background-color: #E8F0FE;\n",
              "      border: none;\n",
              "      border-radius: 50%;\n",
              "      cursor: pointer;\n",
              "      display: none;\n",
              "      fill: #1967D2;\n",
              "      height: 32px;\n",
              "      padding: 0 0 0 0;\n",
              "      width: 32px;\n",
              "    }\n",
              "\n",
              "    .colab-df-convert:hover {\n",
              "      background-color: #E2EBFA;\n",
              "      box-shadow: 0px 1px 2px rgba(60, 64, 67, 0.3), 0px 1px 3px 1px rgba(60, 64, 67, 0.15);\n",
              "      fill: #174EA6;\n",
              "    }\n",
              "\n",
              "    [theme=dark] .colab-df-convert {\n",
              "      background-color: #3B4455;\n",
              "      fill: #D2E3FC;\n",
              "    }\n",
              "\n",
              "    [theme=dark] .colab-df-convert:hover {\n",
              "      background-color: #434B5C;\n",
              "      box-shadow: 0px 1px 3px 1px rgba(0, 0, 0, 0.15);\n",
              "      filter: drop-shadow(0px 1px 2px rgba(0, 0, 0, 0.3));\n",
              "      fill: #FFFFFF;\n",
              "    }\n",
              "  </style>\n",
              "\n",
              "      <script>\n",
              "        const buttonEl =\n",
              "          document.querySelector('#df-f9dea6fc-1165-4bb5-8a05-900ce95738ac button.colab-df-convert');\n",
              "        buttonEl.style.display =\n",
              "          google.colab.kernel.accessAllowed ? 'block' : 'none';\n",
              "\n",
              "        async function convertToInteractive(key) {\n",
              "          const element = document.querySelector('#df-f9dea6fc-1165-4bb5-8a05-900ce95738ac');\n",
              "          const dataTable =\n",
              "            await google.colab.kernel.invokeFunction('convertToInteractive',\n",
              "                                                     [key], {});\n",
              "          if (!dataTable) return;\n",
              "\n",
              "          const docLinkHtml = 'Like what you see? Visit the ' +\n",
              "            '<a target=\"_blank\" href=https://colab.research.google.com/notebooks/data_table.ipynb>data table notebook</a>'\n",
              "            + ' to learn more about interactive tables.';\n",
              "          element.innerHTML = '';\n",
              "          dataTable['output_type'] = 'display_data';\n",
              "          await google.colab.output.renderOutput(dataTable, element);\n",
              "          const docLink = document.createElement('div');\n",
              "          docLink.innerHTML = docLinkHtml;\n",
              "          element.appendChild(docLink);\n",
              "        }\n",
              "      </script>\n",
              "    </div>\n",
              "  </div>\n",
              "  "
            ]
          },
          "metadata": {},
          "execution_count": 9
        }
      ]
    },
    {
      "cell_type": "markdown",
      "source": [
        "Initializing the analyzer"
      ],
      "metadata": {
        "id": "0tXZsmf4kfrh"
      }
    },
    {
      "cell_type": "code",
      "source": [
        "analyzer = SentimentIntensityAnalyzer()\n",
        "analyzer.polarity_scores(df_tweets_og['text'][0])"
      ],
      "metadata": {
        "colab": {
          "base_uri": "https://localhost:8080/"
        },
        "id": "QDbelYbfe_l8",
        "outputId": "0a02e499-7b32-4641-bd6d-8da7ecaa102c"
      },
      "execution_count": 10,
      "outputs": [
        {
          "output_type": "execute_result",
          "data": {
            "text/plain": [
              "{'compound': 0.0, 'neg': 0.0, 'neu': 1.0, 'pos': 0.0}"
            ]
          },
          "metadata": {},
          "execution_count": 10
        }
      ]
    },
    {
      "cell_type": "markdown",
      "source": [
        "Performing sentiment analysis on raw data"
      ],
      "metadata": {
        "id": "GxROv7bHkhs1"
      }
    },
    {
      "cell_type": "code",
      "source": [
        "for i in ['pos', 'neg', 'neu', 'compound']:\n",
        "  df_tweets_og[i] = df_tweets_og['text'].apply(lambda comment: analyzer.polarity_scores(comment)[i])"
      ],
      "metadata": {
        "id": "x7qYpiO1fBpN"
      },
      "execution_count": 11,
      "outputs": []
    },
    {
      "cell_type": "code",
      "source": [
        "df_tweets_og[['text', 'pos', 'neg', 'neu', 'compound', 'airline_sentiment']]"
      ],
      "metadata": {
        "colab": {
          "base_uri": "https://localhost:8080/",
          "height": 423
        },
        "id": "pzRRstCEfEuk",
        "outputId": "15757217-88fe-4588-e5e3-49e202f250c6"
      },
      "execution_count": 12,
      "outputs": [
        {
          "output_type": "execute_result",
          "data": {
            "text/plain": [
              "                                                    text    pos    neg    neu  \\\n",
              "0                    @VirginAmerica What @dhepburn said.  0.000  0.000  1.000   \n",
              "1      @VirginAmerica plus you've added commercials t...  0.000  0.000  1.000   \n",
              "2      @VirginAmerica I didn't today... Must mean I n...  0.000  0.000  1.000   \n",
              "3      @VirginAmerica it's really aggressive to blast...  0.129  0.226  0.645   \n",
              "4      @VirginAmerica and it's a really big bad thing...  0.000  0.296  0.704   \n",
              "...                                                  ...    ...    ...    ...   \n",
              "14635  @AmericanAir thank you we got on a different f...  0.200  0.000  0.800   \n",
              "14636  @AmericanAir leaving over 20 minutes Late Flig...  0.071  0.136  0.793   \n",
              "14637  @AmericanAir Please bring American Airlines to...  0.277  0.000  0.723   \n",
              "14638  @AmericanAir you have my money, you change my ...  0.129  0.000  0.871   \n",
              "14639  @AmericanAir we have 8 ppl so we need 2 know h...  0.043  0.000  0.957   \n",
              "\n",
              "       compound airline_sentiment  \n",
              "0        0.0000           neutral  \n",
              "1        0.0000          positive  \n",
              "2        0.0000           neutral  \n",
              "3       -0.2716          negative  \n",
              "4       -0.5829          negative  \n",
              "...         ...               ...  \n",
              "14635    0.3612          positive  \n",
              "14636   -0.4043          negative  \n",
              "14637    0.3182           neutral  \n",
              "14638    0.5027          negative  \n",
              "14639    0.0772           neutral  \n",
              "\n",
              "[14640 rows x 6 columns]"
            ],
            "text/html": [
              "\n",
              "  <div id=\"df-2ad60103-a6c0-421b-8648-e36c63e49c12\">\n",
              "    <div class=\"colab-df-container\">\n",
              "      <div>\n",
              "<style scoped>\n",
              "    .dataframe tbody tr th:only-of-type {\n",
              "        vertical-align: middle;\n",
              "    }\n",
              "\n",
              "    .dataframe tbody tr th {\n",
              "        vertical-align: top;\n",
              "    }\n",
              "\n",
              "    .dataframe thead th {\n",
              "        text-align: right;\n",
              "    }\n",
              "</style>\n",
              "<table border=\"1\" class=\"dataframe\">\n",
              "  <thead>\n",
              "    <tr style=\"text-align: right;\">\n",
              "      <th></th>\n",
              "      <th>text</th>\n",
              "      <th>pos</th>\n",
              "      <th>neg</th>\n",
              "      <th>neu</th>\n",
              "      <th>compound</th>\n",
              "      <th>airline_sentiment</th>\n",
              "    </tr>\n",
              "  </thead>\n",
              "  <tbody>\n",
              "    <tr>\n",
              "      <th>0</th>\n",
              "      <td>@VirginAmerica What @dhepburn said.</td>\n",
              "      <td>0.000</td>\n",
              "      <td>0.000</td>\n",
              "      <td>1.000</td>\n",
              "      <td>0.0000</td>\n",
              "      <td>neutral</td>\n",
              "    </tr>\n",
              "    <tr>\n",
              "      <th>1</th>\n",
              "      <td>@VirginAmerica plus you've added commercials t...</td>\n",
              "      <td>0.000</td>\n",
              "      <td>0.000</td>\n",
              "      <td>1.000</td>\n",
              "      <td>0.0000</td>\n",
              "      <td>positive</td>\n",
              "    </tr>\n",
              "    <tr>\n",
              "      <th>2</th>\n",
              "      <td>@VirginAmerica I didn't today... Must mean I n...</td>\n",
              "      <td>0.000</td>\n",
              "      <td>0.000</td>\n",
              "      <td>1.000</td>\n",
              "      <td>0.0000</td>\n",
              "      <td>neutral</td>\n",
              "    </tr>\n",
              "    <tr>\n",
              "      <th>3</th>\n",
              "      <td>@VirginAmerica it's really aggressive to blast...</td>\n",
              "      <td>0.129</td>\n",
              "      <td>0.226</td>\n",
              "      <td>0.645</td>\n",
              "      <td>-0.2716</td>\n",
              "      <td>negative</td>\n",
              "    </tr>\n",
              "    <tr>\n",
              "      <th>4</th>\n",
              "      <td>@VirginAmerica and it's a really big bad thing...</td>\n",
              "      <td>0.000</td>\n",
              "      <td>0.296</td>\n",
              "      <td>0.704</td>\n",
              "      <td>-0.5829</td>\n",
              "      <td>negative</td>\n",
              "    </tr>\n",
              "    <tr>\n",
              "      <th>...</th>\n",
              "      <td>...</td>\n",
              "      <td>...</td>\n",
              "      <td>...</td>\n",
              "      <td>...</td>\n",
              "      <td>...</td>\n",
              "      <td>...</td>\n",
              "    </tr>\n",
              "    <tr>\n",
              "      <th>14635</th>\n",
              "      <td>@AmericanAir thank you we got on a different f...</td>\n",
              "      <td>0.200</td>\n",
              "      <td>0.000</td>\n",
              "      <td>0.800</td>\n",
              "      <td>0.3612</td>\n",
              "      <td>positive</td>\n",
              "    </tr>\n",
              "    <tr>\n",
              "      <th>14636</th>\n",
              "      <td>@AmericanAir leaving over 20 minutes Late Flig...</td>\n",
              "      <td>0.071</td>\n",
              "      <td>0.136</td>\n",
              "      <td>0.793</td>\n",
              "      <td>-0.4043</td>\n",
              "      <td>negative</td>\n",
              "    </tr>\n",
              "    <tr>\n",
              "      <th>14637</th>\n",
              "      <td>@AmericanAir Please bring American Airlines to...</td>\n",
              "      <td>0.277</td>\n",
              "      <td>0.000</td>\n",
              "      <td>0.723</td>\n",
              "      <td>0.3182</td>\n",
              "      <td>neutral</td>\n",
              "    </tr>\n",
              "    <tr>\n",
              "      <th>14638</th>\n",
              "      <td>@AmericanAir you have my money, you change my ...</td>\n",
              "      <td>0.129</td>\n",
              "      <td>0.000</td>\n",
              "      <td>0.871</td>\n",
              "      <td>0.5027</td>\n",
              "      <td>negative</td>\n",
              "    </tr>\n",
              "    <tr>\n",
              "      <th>14639</th>\n",
              "      <td>@AmericanAir we have 8 ppl so we need 2 know h...</td>\n",
              "      <td>0.043</td>\n",
              "      <td>0.000</td>\n",
              "      <td>0.957</td>\n",
              "      <td>0.0772</td>\n",
              "      <td>neutral</td>\n",
              "    </tr>\n",
              "  </tbody>\n",
              "</table>\n",
              "<p>14640 rows × 6 columns</p>\n",
              "</div>\n",
              "      <button class=\"colab-df-convert\" onclick=\"convertToInteractive('df-2ad60103-a6c0-421b-8648-e36c63e49c12')\"\n",
              "              title=\"Convert this dataframe to an interactive table.\"\n",
              "              style=\"display:none;\">\n",
              "        \n",
              "  <svg xmlns=\"http://www.w3.org/2000/svg\" height=\"24px\"viewBox=\"0 0 24 24\"\n",
              "       width=\"24px\">\n",
              "    <path d=\"M0 0h24v24H0V0z\" fill=\"none\"/>\n",
              "    <path d=\"M18.56 5.44l.94 2.06.94-2.06 2.06-.94-2.06-.94-.94-2.06-.94 2.06-2.06.94zm-11 1L8.5 8.5l.94-2.06 2.06-.94-2.06-.94L8.5 2.5l-.94 2.06-2.06.94zm10 10l.94 2.06.94-2.06 2.06-.94-2.06-.94-.94-2.06-.94 2.06-2.06.94z\"/><path d=\"M17.41 7.96l-1.37-1.37c-.4-.4-.92-.59-1.43-.59-.52 0-1.04.2-1.43.59L10.3 9.45l-7.72 7.72c-.78.78-.78 2.05 0 2.83L4 21.41c.39.39.9.59 1.41.59.51 0 1.02-.2 1.41-.59l7.78-7.78 2.81-2.81c.8-.78.8-2.07 0-2.86zM5.41 20L4 18.59l7.72-7.72 1.47 1.35L5.41 20z\"/>\n",
              "  </svg>\n",
              "      </button>\n",
              "      \n",
              "  <style>\n",
              "    .colab-df-container {\n",
              "      display:flex;\n",
              "      flex-wrap:wrap;\n",
              "      gap: 12px;\n",
              "    }\n",
              "\n",
              "    .colab-df-convert {\n",
              "      background-color: #E8F0FE;\n",
              "      border: none;\n",
              "      border-radius: 50%;\n",
              "      cursor: pointer;\n",
              "      display: none;\n",
              "      fill: #1967D2;\n",
              "      height: 32px;\n",
              "      padding: 0 0 0 0;\n",
              "      width: 32px;\n",
              "    }\n",
              "\n",
              "    .colab-df-convert:hover {\n",
              "      background-color: #E2EBFA;\n",
              "      box-shadow: 0px 1px 2px rgba(60, 64, 67, 0.3), 0px 1px 3px 1px rgba(60, 64, 67, 0.15);\n",
              "      fill: #174EA6;\n",
              "    }\n",
              "\n",
              "    [theme=dark] .colab-df-convert {\n",
              "      background-color: #3B4455;\n",
              "      fill: #D2E3FC;\n",
              "    }\n",
              "\n",
              "    [theme=dark] .colab-df-convert:hover {\n",
              "      background-color: #434B5C;\n",
              "      box-shadow: 0px 1px 3px 1px rgba(0, 0, 0, 0.15);\n",
              "      filter: drop-shadow(0px 1px 2px rgba(0, 0, 0, 0.3));\n",
              "      fill: #FFFFFF;\n",
              "    }\n",
              "  </style>\n",
              "\n",
              "      <script>\n",
              "        const buttonEl =\n",
              "          document.querySelector('#df-2ad60103-a6c0-421b-8648-e36c63e49c12 button.colab-df-convert');\n",
              "        buttonEl.style.display =\n",
              "          google.colab.kernel.accessAllowed ? 'block' : 'none';\n",
              "\n",
              "        async function convertToInteractive(key) {\n",
              "          const element = document.querySelector('#df-2ad60103-a6c0-421b-8648-e36c63e49c12');\n",
              "          const dataTable =\n",
              "            await google.colab.kernel.invokeFunction('convertToInteractive',\n",
              "                                                     [key], {});\n",
              "          if (!dataTable) return;\n",
              "\n",
              "          const docLinkHtml = 'Like what you see? Visit the ' +\n",
              "            '<a target=\"_blank\" href=https://colab.research.google.com/notebooks/data_table.ipynb>data table notebook</a>'\n",
              "            + ' to learn more about interactive tables.';\n",
              "          element.innerHTML = '';\n",
              "          dataTable['output_type'] = 'display_data';\n",
              "          await google.colab.output.renderOutput(dataTable, element);\n",
              "          const docLink = document.createElement('div');\n",
              "          docLink.innerHTML = docLinkHtml;\n",
              "          element.appendChild(docLink);\n",
              "        }\n",
              "      </script>\n",
              "    </div>\n",
              "  </div>\n",
              "  "
            ]
          },
          "metadata": {},
          "execution_count": 12
        }
      ]
    },
    {
      "cell_type": "code",
      "source": [
        "df_tweets_og.iloc[14635]"
      ],
      "metadata": {
        "colab": {
          "base_uri": "https://localhost:8080/"
        },
        "id": "-X-1cLBOXgfH",
        "outputId": "305f6ce9-442c-4868-d26c-87b99086d162"
      },
      "execution_count": 13,
      "outputs": [
        {
          "output_type": "execute_result",
          "data": {
            "text/plain": [
              "airline_sentiment                                             positive\n",
              "text                 @AmericanAir thank you we got on a different f...\n",
              "pos                                                                0.2\n",
              "neg                                                                0.0\n",
              "neu                                                                0.8\n",
              "compound                                                        0.3612\n",
              "Name: 14635, dtype: object"
            ]
          },
          "metadata": {},
          "execution_count": 13
        }
      ]
    },
    {
      "cell_type": "markdown",
      "source": [
        "## Categorizing reviews\n",
        "- change ground truth (gt) string sentiment to numbers\n",
        "  - `positive`: 1\n",
        "  - `negative`: 2\n",
        "  - `neutral`: 0"
      ],
      "metadata": {
        "id": "LE48mY9KolJz"
      }
    },
    {
      "cell_type": "code",
      "source": [
        "#metrics\n",
        "#convert airline_sentiment to numbers\n",
        "df_tweets_og['airline_sentiment_num_gt'] = \"\"\n",
        "for i in df_tweets_og.index:\n",
        "  if df_tweets_og.loc[i, 'airline_sentiment'] == 'positive':\n",
        "    df_tweets_og.loc[i, 'airline_sentiment_num_gt'] = 1\n",
        "  elif df_tweets_og.loc[i, 'airline_sentiment'] == 'neutral':\n",
        "    df_tweets_og.loc[i, 'airline_sentiment_num_gt'] = 0\n",
        "  elif df_tweets_og.loc[i, 'airline_sentiment'] == 'negative':\n",
        "    df_tweets_og.loc[i, 'airline_sentiment_num_gt'] = 2\n",
        "\n",
        "df_tweets_og['airline_sentiment_num_gt'] = df_tweets_og['airline_sentiment_num_gt'].astype(int)"
      ],
      "metadata": {
        "id": "SHMQahOCfKXc"
      },
      "execution_count": 14,
      "outputs": []
    },
    {
      "cell_type": "code",
      "source": [
        "df_tweets_og['airline_sentiment_num_pred'] = \"\"\n",
        "for i in df_tweets_og.index:\n",
        "  if df_tweets_og.loc[i, 'compound'] > 0:\n",
        "    df_tweets_og.loc[i, 'airline_sentiment_num_pred'] = 1\n",
        "  elif df_tweets_og.loc[i, 'compound'] < 0:\n",
        "    df_tweets_og.loc[i, 'airline_sentiment_num_pred'] = 2\n",
        "  else:\n",
        "    df_tweets_og.loc[i, 'airline_sentiment_num_pred'] = 0\n",
        "\n",
        "df_tweets_og['airline_sentiment_num_pred'] = df_tweets_og['airline_sentiment_num_pred'].astype(int)"
      ],
      "metadata": {
        "id": "_xDocqnTfMxM"
      },
      "execution_count": 15,
      "outputs": []
    },
    {
      "cell_type": "markdown",
      "source": [
        "Get accuracy score based on predicted sentiment and ground truth sentiment"
      ],
      "metadata": {
        "id": "cem7nkdRktlm"
      }
    },
    {
      "cell_type": "code",
      "source": [
        "accuracy_score(df_tweets_og['airline_sentiment_num_gt'].values, df_tweets_og['airline_sentiment_num_pred'].values)"
      ],
      "metadata": {
        "colab": {
          "base_uri": "https://localhost:8080/"
        },
        "id": "zIi4nkZjfOlO",
        "outputId": "bbb82a77-be60-46e2-efc6-5c0b214732b4"
      },
      "execution_count": 16,
      "outputs": [
        {
          "output_type": "execute_result",
          "data": {
            "text/plain": [
              "0.4948770491803279"
            ]
          },
          "metadata": {},
          "execution_count": 16
        }
      ]
    },
    {
      "cell_type": "markdown",
      "source": [
        "Generate a confusion matrix and classification report"
      ],
      "metadata": {
        "id": "F1exzNnfkxc2"
      }
    },
    {
      "cell_type": "code",
      "source": [
        "confusion_matrix(df_tweets_og['airline_sentiment_num_gt'].values, df_tweets_og['airline_sentiment_num_pred'].values)"
      ],
      "metadata": {
        "colab": {
          "base_uri": "https://localhost:8080/"
        },
        "id": "IMoBYA6rfZPT",
        "outputId": "4cdb689e-c87a-40a1-eab0-f96ae7388700"
      },
      "execution_count": 17,
      "outputs": [
        {
          "output_type": "execute_result",
          "data": {
            "text/plain": [
              "array([[ 966, 1767,  366],\n",
              "       [ 138, 2153,   72],\n",
              "       [1219, 3833, 4126]])"
            ]
          },
          "metadata": {},
          "execution_count": 17
        }
      ]
    },
    {
      "cell_type": "code",
      "source": [
        "print(classification_report(df_tweets_og['airline_sentiment_num_gt'].values, df_tweets_og['airline_sentiment_num_pred'].values,\n",
        "                            target_names=['neutral', 'positive', 'negative']))"
      ],
      "metadata": {
        "colab": {
          "base_uri": "https://localhost:8080/"
        },
        "id": "A1WorxVVfbV_",
        "outputId": "6d3bc6ce-8ee6-42cf-e322-3d11b42a8335"
      },
      "execution_count": 18,
      "outputs": [
        {
          "output_type": "stream",
          "name": "stdout",
          "text": [
            "              precision    recall  f1-score   support\n",
            "\n",
            "     neutral       0.42      0.31      0.36      3099\n",
            "    positive       0.28      0.91      0.43      2363\n",
            "    negative       0.90      0.45      0.60      9178\n",
            "\n",
            "    accuracy                           0.49     14640\n",
            "   macro avg       0.53      0.56      0.46     14640\n",
            "weighted avg       0.70      0.49      0.52     14640\n",
            "\n"
          ]
        }
      ]
    },
    {
      "cell_type": "markdown",
      "source": [
        "## Results on Raw Data\n",
        "\n",
        "- out of the 9178 negative sentences, 4126 are classified correctly\n",
        "- out of the 3099 neutral sentences, 966 are classified correctly \n",
        "- out of the 2363 positive sentences, 2153 are classified correctly\n",
        "\n",
        "- overall accuracy for this dataset without preprocessing is ~49.48%"
      ],
      "metadata": {
        "id": "SYCna-Pqk1Oo"
      }
    },
    {
      "cell_type": "markdown",
      "source": [
        "## Interpretation\n",
        "\n",
        "- `df_tweets_og.iloc[14635]['text']`: the text in index `14635` is `@AmericanAir thank you we got on a different flight to Chicago`\n",
        "- The ground truth is `positive`\n",
        "- VADER's scores:\n",
        "  - positive: 0.2\n",
        "  - negative: 0.0\n",
        "  - neutral: 0.8\n",
        "  - compound score: 0.3612\n",
        "- We can see that VADER is sure that it isn't a statement with `negative` sentiment as the `negative` score is 0.0\n",
        "- Although, it's leaning more towards the statement being `neutral` as the `positive` score is less than `neutral` score\n",
        "- However, the `compound` score is 0.361, which is not as close to 1.0, which indicates not so strong positive sentiment classification.\n",
        "- With my classification interpretation of `compound > 0 == positive`, the classification is taken as positive."
      ],
      "metadata": {
        "id": "2C4fRK1qTZhr"
      }
    },
    {
      "cell_type": "markdown",
      "source": [
        "# Part 2\n",
        "## VADER with Preprocessing\n",
        "\n",
        "- make string lower case\n",
        "- replace special chars - @, #, $ with empty string\n",
        "- remove unwanted spaces\n",
        "- replace end-of-line characters\n",
        "\n",
        "- Since VADER performs better for whole sentences, I'm choosing not to remove stopwords"
      ],
      "metadata": {
        "id": "DNWteHv5njkD"
      }
    },
    {
      "cell_type": "code",
      "source": [
        "#preprocessing\n",
        "df_tweets['text'] = df_tweets['text'].str.lower()\n",
        "df_tweets['text'] = df_tweets['text'].str.replace(\"\\n\", \"\")\n",
        "df_tweets['text'] = df_tweets['text'].str.replace(\"@\", \"\")\n",
        "df_tweets['text'] = df_tweets['text'].str.replace(\"$\", \"\")\n",
        "df_tweets['text'] = df_tweets['text'].str.replace(\"#\", \"\")\n",
        "df_tweets['text'] = df_tweets['text'].str.lstrip().str.rstrip().str.strip()"
      ],
      "metadata": {
        "id": "7bBdRzEYn9P_"
      },
      "execution_count": 19,
      "outputs": []
    },
    {
      "cell_type": "code",
      "source": [
        "df_tweets['text']"
      ],
      "metadata": {
        "colab": {
          "base_uri": "https://localhost:8080/"
        },
        "id": "Ir99D1YWP1t0",
        "outputId": "6f6a8d79-f06f-4845-ede3-2ffb40312409"
      },
      "execution_count": 20,
      "outputs": [
        {
          "output_type": "execute_result",
          "data": {
            "text/plain": [
              "0                        virginamerica what dhepburn said.\n",
              "1        virginamerica plus you've added commercials to...\n",
              "2        virginamerica i didn't today... must mean i ne...\n",
              "3        virginamerica it's really aggressive to blast ...\n",
              "4        virginamerica and it's a really big bad thing ...\n",
              "                               ...                        \n",
              "14635    americanair thank you we got on a different fl...\n",
              "14636    americanair leaving over 20 minutes late fligh...\n",
              "14637    americanair please bring american airlines to ...\n",
              "14638    americanair you have my money, you change my f...\n",
              "14639    americanair we have 8 ppl so we need 2 know ho...\n",
              "Name: text, Length: 14640, dtype: object"
            ]
          },
          "metadata": {},
          "execution_count": 20
        }
      ]
    },
    {
      "cell_type": "markdown",
      "source": [
        "## Sentiment Analysis\n",
        "- load VADER sentiment analyzer\n",
        "- Get scores for each text"
      ],
      "metadata": {
        "id": "MXzB2OSsod84"
      }
    },
    {
      "cell_type": "code",
      "source": [
        "analyzer = SentimentIntensityAnalyzer()\n",
        "analyzer.polarity_scores(df_tweets['text'][0])"
      ],
      "metadata": {
        "colab": {
          "base_uri": "https://localhost:8080/"
        },
        "id": "6BQVyrQmqZUd",
        "outputId": "ca4c9bec-a72c-4edb-c1e2-ca9d5c07e67d"
      },
      "execution_count": 21,
      "outputs": [
        {
          "output_type": "execute_result",
          "data": {
            "text/plain": [
              "{'compound': 0.0, 'neg': 0.0, 'neu': 1.0, 'pos': 0.0}"
            ]
          },
          "metadata": {},
          "execution_count": 21
        }
      ]
    },
    {
      "cell_type": "code",
      "source": [
        "for i in ['pos', 'neg', 'neu', 'compound']:\n",
        "  df_tweets[i] = df_tweets['text'].apply(lambda comment: analyzer.polarity_scores(comment)[i])"
      ],
      "metadata": {
        "id": "NRB7CpU-qcDc"
      },
      "execution_count": 22,
      "outputs": []
    },
    {
      "cell_type": "code",
      "source": [
        "df_tweets[['text', 'pos', 'neg', 'neu', 'compound', 'airline_sentiment']]"
      ],
      "metadata": {
        "colab": {
          "base_uri": "https://localhost:8080/",
          "height": 423
        },
        "id": "EKIhywshqpFK",
        "outputId": "bf5e0a89-d35f-4541-c39e-84733e0f2b00"
      },
      "execution_count": 23,
      "outputs": [
        {
          "output_type": "execute_result",
          "data": {
            "text/plain": [
              "                                                    text    pos    neg    neu  \\\n",
              "0                      virginamerica what dhepburn said.  0.000  0.000  1.000   \n",
              "1      virginamerica plus you've added commercials to...  0.000  0.000  1.000   \n",
              "2      virginamerica i didn't today... must mean i ne...  0.000  0.000  1.000   \n",
              "3      virginamerica it's really aggressive to blast ...  0.129  0.226  0.645   \n",
              "4      virginamerica and it's a really big bad thing ...  0.000  0.296  0.704   \n",
              "...                                                  ...    ...    ...    ...   \n",
              "14635  americanair thank you we got on a different fl...  0.200  0.000  0.800   \n",
              "14636  americanair leaving over 20 minutes late fligh...  0.071  0.136  0.793   \n",
              "14637  americanair please bring american airlines to ...  0.277  0.000  0.723   \n",
              "14638  americanair you have my money, you change my f...  0.129  0.000  0.871   \n",
              "14639  americanair we have 8 ppl so we need 2 know ho...  0.043  0.000  0.957   \n",
              "\n",
              "       compound airline_sentiment  \n",
              "0        0.0000           neutral  \n",
              "1        0.0000          positive  \n",
              "2        0.0000           neutral  \n",
              "3       -0.2716          negative  \n",
              "4       -0.5829          negative  \n",
              "...         ...               ...  \n",
              "14635    0.3612          positive  \n",
              "14636   -0.4043          negative  \n",
              "14637    0.3182           neutral  \n",
              "14638    0.5027          negative  \n",
              "14639    0.0772           neutral  \n",
              "\n",
              "[14640 rows x 6 columns]"
            ],
            "text/html": [
              "\n",
              "  <div id=\"df-f71fc8af-d2bd-4437-90fa-843d50299da1\">\n",
              "    <div class=\"colab-df-container\">\n",
              "      <div>\n",
              "<style scoped>\n",
              "    .dataframe tbody tr th:only-of-type {\n",
              "        vertical-align: middle;\n",
              "    }\n",
              "\n",
              "    .dataframe tbody tr th {\n",
              "        vertical-align: top;\n",
              "    }\n",
              "\n",
              "    .dataframe thead th {\n",
              "        text-align: right;\n",
              "    }\n",
              "</style>\n",
              "<table border=\"1\" class=\"dataframe\">\n",
              "  <thead>\n",
              "    <tr style=\"text-align: right;\">\n",
              "      <th></th>\n",
              "      <th>text</th>\n",
              "      <th>pos</th>\n",
              "      <th>neg</th>\n",
              "      <th>neu</th>\n",
              "      <th>compound</th>\n",
              "      <th>airline_sentiment</th>\n",
              "    </tr>\n",
              "  </thead>\n",
              "  <tbody>\n",
              "    <tr>\n",
              "      <th>0</th>\n",
              "      <td>virginamerica what dhepburn said.</td>\n",
              "      <td>0.000</td>\n",
              "      <td>0.000</td>\n",
              "      <td>1.000</td>\n",
              "      <td>0.0000</td>\n",
              "      <td>neutral</td>\n",
              "    </tr>\n",
              "    <tr>\n",
              "      <th>1</th>\n",
              "      <td>virginamerica plus you've added commercials to...</td>\n",
              "      <td>0.000</td>\n",
              "      <td>0.000</td>\n",
              "      <td>1.000</td>\n",
              "      <td>0.0000</td>\n",
              "      <td>positive</td>\n",
              "    </tr>\n",
              "    <tr>\n",
              "      <th>2</th>\n",
              "      <td>virginamerica i didn't today... must mean i ne...</td>\n",
              "      <td>0.000</td>\n",
              "      <td>0.000</td>\n",
              "      <td>1.000</td>\n",
              "      <td>0.0000</td>\n",
              "      <td>neutral</td>\n",
              "    </tr>\n",
              "    <tr>\n",
              "      <th>3</th>\n",
              "      <td>virginamerica it's really aggressive to blast ...</td>\n",
              "      <td>0.129</td>\n",
              "      <td>0.226</td>\n",
              "      <td>0.645</td>\n",
              "      <td>-0.2716</td>\n",
              "      <td>negative</td>\n",
              "    </tr>\n",
              "    <tr>\n",
              "      <th>4</th>\n",
              "      <td>virginamerica and it's a really big bad thing ...</td>\n",
              "      <td>0.000</td>\n",
              "      <td>0.296</td>\n",
              "      <td>0.704</td>\n",
              "      <td>-0.5829</td>\n",
              "      <td>negative</td>\n",
              "    </tr>\n",
              "    <tr>\n",
              "      <th>...</th>\n",
              "      <td>...</td>\n",
              "      <td>...</td>\n",
              "      <td>...</td>\n",
              "      <td>...</td>\n",
              "      <td>...</td>\n",
              "      <td>...</td>\n",
              "    </tr>\n",
              "    <tr>\n",
              "      <th>14635</th>\n",
              "      <td>americanair thank you we got on a different fl...</td>\n",
              "      <td>0.200</td>\n",
              "      <td>0.000</td>\n",
              "      <td>0.800</td>\n",
              "      <td>0.3612</td>\n",
              "      <td>positive</td>\n",
              "    </tr>\n",
              "    <tr>\n",
              "      <th>14636</th>\n",
              "      <td>americanair leaving over 20 minutes late fligh...</td>\n",
              "      <td>0.071</td>\n",
              "      <td>0.136</td>\n",
              "      <td>0.793</td>\n",
              "      <td>-0.4043</td>\n",
              "      <td>negative</td>\n",
              "    </tr>\n",
              "    <tr>\n",
              "      <th>14637</th>\n",
              "      <td>americanair please bring american airlines to ...</td>\n",
              "      <td>0.277</td>\n",
              "      <td>0.000</td>\n",
              "      <td>0.723</td>\n",
              "      <td>0.3182</td>\n",
              "      <td>neutral</td>\n",
              "    </tr>\n",
              "    <tr>\n",
              "      <th>14638</th>\n",
              "      <td>americanair you have my money, you change my f...</td>\n",
              "      <td>0.129</td>\n",
              "      <td>0.000</td>\n",
              "      <td>0.871</td>\n",
              "      <td>0.5027</td>\n",
              "      <td>negative</td>\n",
              "    </tr>\n",
              "    <tr>\n",
              "      <th>14639</th>\n",
              "      <td>americanair we have 8 ppl so we need 2 know ho...</td>\n",
              "      <td>0.043</td>\n",
              "      <td>0.000</td>\n",
              "      <td>0.957</td>\n",
              "      <td>0.0772</td>\n",
              "      <td>neutral</td>\n",
              "    </tr>\n",
              "  </tbody>\n",
              "</table>\n",
              "<p>14640 rows × 6 columns</p>\n",
              "</div>\n",
              "      <button class=\"colab-df-convert\" onclick=\"convertToInteractive('df-f71fc8af-d2bd-4437-90fa-843d50299da1')\"\n",
              "              title=\"Convert this dataframe to an interactive table.\"\n",
              "              style=\"display:none;\">\n",
              "        \n",
              "  <svg xmlns=\"http://www.w3.org/2000/svg\" height=\"24px\"viewBox=\"0 0 24 24\"\n",
              "       width=\"24px\">\n",
              "    <path d=\"M0 0h24v24H0V0z\" fill=\"none\"/>\n",
              "    <path d=\"M18.56 5.44l.94 2.06.94-2.06 2.06-.94-2.06-.94-.94-2.06-.94 2.06-2.06.94zm-11 1L8.5 8.5l.94-2.06 2.06-.94-2.06-.94L8.5 2.5l-.94 2.06-2.06.94zm10 10l.94 2.06.94-2.06 2.06-.94-2.06-.94-.94-2.06-.94 2.06-2.06.94z\"/><path d=\"M17.41 7.96l-1.37-1.37c-.4-.4-.92-.59-1.43-.59-.52 0-1.04.2-1.43.59L10.3 9.45l-7.72 7.72c-.78.78-.78 2.05 0 2.83L4 21.41c.39.39.9.59 1.41.59.51 0 1.02-.2 1.41-.59l7.78-7.78 2.81-2.81c.8-.78.8-2.07 0-2.86zM5.41 20L4 18.59l7.72-7.72 1.47 1.35L5.41 20z\"/>\n",
              "  </svg>\n",
              "      </button>\n",
              "      \n",
              "  <style>\n",
              "    .colab-df-container {\n",
              "      display:flex;\n",
              "      flex-wrap:wrap;\n",
              "      gap: 12px;\n",
              "    }\n",
              "\n",
              "    .colab-df-convert {\n",
              "      background-color: #E8F0FE;\n",
              "      border: none;\n",
              "      border-radius: 50%;\n",
              "      cursor: pointer;\n",
              "      display: none;\n",
              "      fill: #1967D2;\n",
              "      height: 32px;\n",
              "      padding: 0 0 0 0;\n",
              "      width: 32px;\n",
              "    }\n",
              "\n",
              "    .colab-df-convert:hover {\n",
              "      background-color: #E2EBFA;\n",
              "      box-shadow: 0px 1px 2px rgba(60, 64, 67, 0.3), 0px 1px 3px 1px rgba(60, 64, 67, 0.15);\n",
              "      fill: #174EA6;\n",
              "    }\n",
              "\n",
              "    [theme=dark] .colab-df-convert {\n",
              "      background-color: #3B4455;\n",
              "      fill: #D2E3FC;\n",
              "    }\n",
              "\n",
              "    [theme=dark] .colab-df-convert:hover {\n",
              "      background-color: #434B5C;\n",
              "      box-shadow: 0px 1px 3px 1px rgba(0, 0, 0, 0.15);\n",
              "      filter: drop-shadow(0px 1px 2px rgba(0, 0, 0, 0.3));\n",
              "      fill: #FFFFFF;\n",
              "    }\n",
              "  </style>\n",
              "\n",
              "      <script>\n",
              "        const buttonEl =\n",
              "          document.querySelector('#df-f71fc8af-d2bd-4437-90fa-843d50299da1 button.colab-df-convert');\n",
              "        buttonEl.style.display =\n",
              "          google.colab.kernel.accessAllowed ? 'block' : 'none';\n",
              "\n",
              "        async function convertToInteractive(key) {\n",
              "          const element = document.querySelector('#df-f71fc8af-d2bd-4437-90fa-843d50299da1');\n",
              "          const dataTable =\n",
              "            await google.colab.kernel.invokeFunction('convertToInteractive',\n",
              "                                                     [key], {});\n",
              "          if (!dataTable) return;\n",
              "\n",
              "          const docLinkHtml = 'Like what you see? Visit the ' +\n",
              "            '<a target=\"_blank\" href=https://colab.research.google.com/notebooks/data_table.ipynb>data table notebook</a>'\n",
              "            + ' to learn more about interactive tables.';\n",
              "          element.innerHTML = '';\n",
              "          dataTable['output_type'] = 'display_data';\n",
              "          await google.colab.output.renderOutput(dataTable, element);\n",
              "          const docLink = document.createElement('div');\n",
              "          docLink.innerHTML = docLinkHtml;\n",
              "          element.appendChild(docLink);\n",
              "        }\n",
              "      </script>\n",
              "    </div>\n",
              "  </div>\n",
              "  "
            ]
          },
          "metadata": {},
          "execution_count": 23
        }
      ]
    },
    {
      "cell_type": "code",
      "source": [
        "#metrics\n",
        "#convert airline_sentiment to numbers\n",
        "df_tweets['airline_sentiment_num_gt'] = \"\"\n",
        "for i in df_tweets.index:\n",
        "  if df_tweets.loc[i, 'airline_sentiment'] == 'positive':\n",
        "    df_tweets.loc[i, 'airline_sentiment_num_gt'] = 1\n",
        "  elif df_tweets.loc[i, 'airline_sentiment'] == 'neutral':\n",
        "    df_tweets.loc[i, 'airline_sentiment_num_gt'] = 0\n",
        "  elif df_tweets.loc[i, 'airline_sentiment'] == 'negative':\n",
        "    df_tweets.loc[i, 'airline_sentiment_num_gt'] = 2"
      ],
      "metadata": {
        "id": "7ZW51xS7PuBx"
      },
      "execution_count": 24,
      "outputs": []
    },
    {
      "cell_type": "code",
      "source": [
        "df_tweets['airline_sentiment_num_gt'] = df_tweets['airline_sentiment_num_gt'].astype(int)"
      ],
      "metadata": {
        "id": "zg5m0U91SzJq"
      },
      "execution_count": 25,
      "outputs": []
    },
    {
      "cell_type": "code",
      "source": [
        "df_tweets.head()"
      ],
      "metadata": {
        "colab": {
          "base_uri": "https://localhost:8080/",
          "height": 319
        },
        "id": "5PjBBLKsRinq",
        "outputId": "20e9d95e-626b-41f2-a9bb-4773fd7c26e3"
      },
      "execution_count": 26,
      "outputs": [
        {
          "output_type": "execute_result",
          "data": {
            "text/plain": [
              "  airline_sentiment                                               text    pos  \\\n",
              "0           neutral                  virginamerica what dhepburn said.  0.000   \n",
              "1          positive  virginamerica plus you've added commercials to...  0.000   \n",
              "2           neutral  virginamerica i didn't today... must mean i ne...  0.000   \n",
              "3          negative  virginamerica it's really aggressive to blast ...  0.129   \n",
              "4          negative  virginamerica and it's a really big bad thing ...  0.000   \n",
              "\n",
              "     neg    neu  compound  airline_sentiment_num_gt  \n",
              "0  0.000  1.000    0.0000                         0  \n",
              "1  0.000  1.000    0.0000                         1  \n",
              "2  0.000  1.000    0.0000                         0  \n",
              "3  0.226  0.645   -0.2716                         2  \n",
              "4  0.296  0.704   -0.5829                         2  "
            ],
            "text/html": [
              "\n",
              "  <div id=\"df-d31fe0b4-502c-4e42-9d7d-d96f0207b470\">\n",
              "    <div class=\"colab-df-container\">\n",
              "      <div>\n",
              "<style scoped>\n",
              "    .dataframe tbody tr th:only-of-type {\n",
              "        vertical-align: middle;\n",
              "    }\n",
              "\n",
              "    .dataframe tbody tr th {\n",
              "        vertical-align: top;\n",
              "    }\n",
              "\n",
              "    .dataframe thead th {\n",
              "        text-align: right;\n",
              "    }\n",
              "</style>\n",
              "<table border=\"1\" class=\"dataframe\">\n",
              "  <thead>\n",
              "    <tr style=\"text-align: right;\">\n",
              "      <th></th>\n",
              "      <th>airline_sentiment</th>\n",
              "      <th>text</th>\n",
              "      <th>pos</th>\n",
              "      <th>neg</th>\n",
              "      <th>neu</th>\n",
              "      <th>compound</th>\n",
              "      <th>airline_sentiment_num_gt</th>\n",
              "    </tr>\n",
              "  </thead>\n",
              "  <tbody>\n",
              "    <tr>\n",
              "      <th>0</th>\n",
              "      <td>neutral</td>\n",
              "      <td>virginamerica what dhepburn said.</td>\n",
              "      <td>0.000</td>\n",
              "      <td>0.000</td>\n",
              "      <td>1.000</td>\n",
              "      <td>0.0000</td>\n",
              "      <td>0</td>\n",
              "    </tr>\n",
              "    <tr>\n",
              "      <th>1</th>\n",
              "      <td>positive</td>\n",
              "      <td>virginamerica plus you've added commercials to...</td>\n",
              "      <td>0.000</td>\n",
              "      <td>0.000</td>\n",
              "      <td>1.000</td>\n",
              "      <td>0.0000</td>\n",
              "      <td>1</td>\n",
              "    </tr>\n",
              "    <tr>\n",
              "      <th>2</th>\n",
              "      <td>neutral</td>\n",
              "      <td>virginamerica i didn't today... must mean i ne...</td>\n",
              "      <td>0.000</td>\n",
              "      <td>0.000</td>\n",
              "      <td>1.000</td>\n",
              "      <td>0.0000</td>\n",
              "      <td>0</td>\n",
              "    </tr>\n",
              "    <tr>\n",
              "      <th>3</th>\n",
              "      <td>negative</td>\n",
              "      <td>virginamerica it's really aggressive to blast ...</td>\n",
              "      <td>0.129</td>\n",
              "      <td>0.226</td>\n",
              "      <td>0.645</td>\n",
              "      <td>-0.2716</td>\n",
              "      <td>2</td>\n",
              "    </tr>\n",
              "    <tr>\n",
              "      <th>4</th>\n",
              "      <td>negative</td>\n",
              "      <td>virginamerica and it's a really big bad thing ...</td>\n",
              "      <td>0.000</td>\n",
              "      <td>0.296</td>\n",
              "      <td>0.704</td>\n",
              "      <td>-0.5829</td>\n",
              "      <td>2</td>\n",
              "    </tr>\n",
              "  </tbody>\n",
              "</table>\n",
              "</div>\n",
              "      <button class=\"colab-df-convert\" onclick=\"convertToInteractive('df-d31fe0b4-502c-4e42-9d7d-d96f0207b470')\"\n",
              "              title=\"Convert this dataframe to an interactive table.\"\n",
              "              style=\"display:none;\">\n",
              "        \n",
              "  <svg xmlns=\"http://www.w3.org/2000/svg\" height=\"24px\"viewBox=\"0 0 24 24\"\n",
              "       width=\"24px\">\n",
              "    <path d=\"M0 0h24v24H0V0z\" fill=\"none\"/>\n",
              "    <path d=\"M18.56 5.44l.94 2.06.94-2.06 2.06-.94-2.06-.94-.94-2.06-.94 2.06-2.06.94zm-11 1L8.5 8.5l.94-2.06 2.06-.94-2.06-.94L8.5 2.5l-.94 2.06-2.06.94zm10 10l.94 2.06.94-2.06 2.06-.94-2.06-.94-.94-2.06-.94 2.06-2.06.94z\"/><path d=\"M17.41 7.96l-1.37-1.37c-.4-.4-.92-.59-1.43-.59-.52 0-1.04.2-1.43.59L10.3 9.45l-7.72 7.72c-.78.78-.78 2.05 0 2.83L4 21.41c.39.39.9.59 1.41.59.51 0 1.02-.2 1.41-.59l7.78-7.78 2.81-2.81c.8-.78.8-2.07 0-2.86zM5.41 20L4 18.59l7.72-7.72 1.47 1.35L5.41 20z\"/>\n",
              "  </svg>\n",
              "      </button>\n",
              "      \n",
              "  <style>\n",
              "    .colab-df-container {\n",
              "      display:flex;\n",
              "      flex-wrap:wrap;\n",
              "      gap: 12px;\n",
              "    }\n",
              "\n",
              "    .colab-df-convert {\n",
              "      background-color: #E8F0FE;\n",
              "      border: none;\n",
              "      border-radius: 50%;\n",
              "      cursor: pointer;\n",
              "      display: none;\n",
              "      fill: #1967D2;\n",
              "      height: 32px;\n",
              "      padding: 0 0 0 0;\n",
              "      width: 32px;\n",
              "    }\n",
              "\n",
              "    .colab-df-convert:hover {\n",
              "      background-color: #E2EBFA;\n",
              "      box-shadow: 0px 1px 2px rgba(60, 64, 67, 0.3), 0px 1px 3px 1px rgba(60, 64, 67, 0.15);\n",
              "      fill: #174EA6;\n",
              "    }\n",
              "\n",
              "    [theme=dark] .colab-df-convert {\n",
              "      background-color: #3B4455;\n",
              "      fill: #D2E3FC;\n",
              "    }\n",
              "\n",
              "    [theme=dark] .colab-df-convert:hover {\n",
              "      background-color: #434B5C;\n",
              "      box-shadow: 0px 1px 3px 1px rgba(0, 0, 0, 0.15);\n",
              "      filter: drop-shadow(0px 1px 2px rgba(0, 0, 0, 0.3));\n",
              "      fill: #FFFFFF;\n",
              "    }\n",
              "  </style>\n",
              "\n",
              "      <script>\n",
              "        const buttonEl =\n",
              "          document.querySelector('#df-d31fe0b4-502c-4e42-9d7d-d96f0207b470 button.colab-df-convert');\n",
              "        buttonEl.style.display =\n",
              "          google.colab.kernel.accessAllowed ? 'block' : 'none';\n",
              "\n",
              "        async function convertToInteractive(key) {\n",
              "          const element = document.querySelector('#df-d31fe0b4-502c-4e42-9d7d-d96f0207b470');\n",
              "          const dataTable =\n",
              "            await google.colab.kernel.invokeFunction('convertToInteractive',\n",
              "                                                     [key], {});\n",
              "          if (!dataTable) return;\n",
              "\n",
              "          const docLinkHtml = 'Like what you see? Visit the ' +\n",
              "            '<a target=\"_blank\" href=https://colab.research.google.com/notebooks/data_table.ipynb>data table notebook</a>'\n",
              "            + ' to learn more about interactive tables.';\n",
              "          element.innerHTML = '';\n",
              "          dataTable['output_type'] = 'display_data';\n",
              "          await google.colab.output.renderOutput(dataTable, element);\n",
              "          const docLink = document.createElement('div');\n",
              "          docLink.innerHTML = docLinkHtml;\n",
              "          element.appendChild(docLink);\n",
              "        }\n",
              "      </script>\n",
              "    </div>\n",
              "  </div>\n",
              "  "
            ]
          },
          "metadata": {},
          "execution_count": 26
        }
      ]
    },
    {
      "cell_type": "markdown",
      "source": [
        "## Predicted Sentiments\n",
        "- we use the `compound` column to categorize predictions\n",
        "  - if `compound > 0` == `positive` sentiment\n",
        "  - if `compound < 0` == `negative` sentiment\n",
        "  - if `compound == 0` == `neutral` sentiment"
      ],
      "metadata": {
        "id": "-5VcFq1coxYp"
      }
    },
    {
      "cell_type": "code",
      "source": [
        "df_tweets['airline_sentiment_num_pred'] = \"\"\n",
        "for i in df_tweets.index:\n",
        "  if df_tweets.loc[i, 'compound'] > 0:\n",
        "    df_tweets.loc[i, 'airline_sentiment_num_pred'] = 1\n",
        "  elif df_tweets.loc[i, 'compound'] < 0:\n",
        "    df_tweets.loc[i, 'airline_sentiment_num_pred'] = 2\n",
        "  else:\n",
        "    df_tweets.loc[i, 'airline_sentiment_num_pred'] = 0"
      ],
      "metadata": {
        "id": "VSYwdDKDRkSY"
      },
      "execution_count": 27,
      "outputs": []
    },
    {
      "cell_type": "code",
      "source": [
        "df_tweets['airline_sentiment_num_pred'] = df_tweets['airline_sentiment_num_pred'].astype(int)"
      ],
      "metadata": {
        "id": "OyyG2PrcS4V4"
      },
      "execution_count": 28,
      "outputs": []
    },
    {
      "cell_type": "markdown",
      "source": [
        "## Analyzing VADER performance after preprocessing\n",
        "- construct a confusion matrix \n",
        "- construct classification report"
      ],
      "metadata": {
        "id": "5ueHx48To_3p"
      }
    },
    {
      "cell_type": "code",
      "source": [
        "accuracy_score(df_tweets['airline_sentiment_num_gt'].values, df_tweets['airline_sentiment_num_pred'].values)"
      ],
      "metadata": {
        "colab": {
          "base_uri": "https://localhost:8080/"
        },
        "id": "UY-Qs5G4PHx4",
        "outputId": "bc4d60cf-d03f-4b6e-d5d7-46dfd4617c43"
      },
      "execution_count": 29,
      "outputs": [
        {
          "output_type": "execute_result",
          "data": {
            "text/plain": [
              "0.49405737704918035"
            ]
          },
          "metadata": {},
          "execution_count": 29
        }
      ]
    },
    {
      "cell_type": "code",
      "source": [
        "confusion_matrix(df_tweets['airline_sentiment_num_gt'].values, df_tweets['airline_sentiment_num_pred'].values)"
      ],
      "metadata": {
        "colab": {
          "base_uri": "https://localhost:8080/"
        },
        "id": "xlhI-oe5R7ok",
        "outputId": "9df9c810-c88b-479f-eabb-1687d882fcdb"
      },
      "execution_count": 30,
      "outputs": [
        {
          "output_type": "execute_result",
          "data": {
            "text/plain": [
              "array([[ 966, 1768,  365],\n",
              "       [ 140, 2151,   72],\n",
              "       [1222, 3840, 4116]])"
            ]
          },
          "metadata": {},
          "execution_count": 30
        }
      ]
    },
    {
      "cell_type": "code",
      "source": [
        "print(classification_report(df_tweets['airline_sentiment_num_gt'].values, df_tweets['airline_sentiment_num_pred'].values,\n",
        "                            target_names=['neutral', 'positive', 'negative']))"
      ],
      "metadata": {
        "colab": {
          "base_uri": "https://localhost:8080/"
        },
        "id": "OnUpUg8iSs0b",
        "outputId": "78f127d7-0b41-48e3-c794-8564fce9317b"
      },
      "execution_count": 31,
      "outputs": [
        {
          "output_type": "stream",
          "name": "stdout",
          "text": [
            "              precision    recall  f1-score   support\n",
            "\n",
            "     neutral       0.41      0.31      0.36      3099\n",
            "    positive       0.28      0.91      0.43      2363\n",
            "    negative       0.90      0.45      0.60      9178\n",
            "\n",
            "    accuracy                           0.49     14640\n",
            "   macro avg       0.53      0.56      0.46     14640\n",
            "weighted avg       0.70      0.49      0.52     14640\n",
            "\n"
          ]
        }
      ]
    },
    {
      "cell_type": "markdown",
      "source": [
        "## Results after preprocessing\n",
        "\n",
        "- out of the 9178 negative sentences, 4116 are classified correctly\n",
        "- out of the 3099 neutral sentences, 966 are classified correctly \n",
        "- out of the 2363 positive sentences, 2151 are classified correctly\n",
        "\n",
        "- overall accuracy for this dataset without preprocessing is ~49.40%"
      ],
      "metadata": {
        "id": "le03P6qWmofE"
      }
    },
    {
      "cell_type": "markdown",
      "source": [
        "## Q1: How is your analyzer working? \n",
        "\n",
        "### Answer\n",
        "- I've chosen VADER (Valence Aware Dictionary and Sentiment Reasoner). It is a lexicon/rule based approach to sentiment classification\n",
        "- In addition to giving a positive/negative class label, it gives the strength of sentiment as well\n",
        "- VADER depends on a pre-defined dictionary of sentiment words and a score given to it\n",
        "- VADER's lexicon includes acronyms and emoticons as well (ex: :-) is a smile emoji) making it a good option for analyzing social media data.\n",
        "## Q2: How do you \"know\" if your text is positive, negative, etc.? \n",
        "\n",
        "### Answer\n",
        "- Since VADER gives a \"strength\" score (how positive or negative is a sentence) with each sentiment, I've made a rule that says: \n",
        "  - if the `score is >0`, the sentence has a positive sentiment\n",
        "  - if the `score is <0`, the sentence has a positive sentiment\n",
        "  - if the `score == 0`, the sentence is neutral\n",
        "\n",
        "- The `compound` score is the sum of positive, negative and neutral scores which is then normalized between `[-1,1]`\n",
        "- The more closer the `compound` score is to +1, the more positive the sentence is. Similarly, if the `compound` score is close to -1, the sentence is more negative.\n",
        "\n",
        "##Q3: Do you disagree with any results? If so, why?\n",
        "\n",
        "- For the dataset I've chosen, VADER doesn't perform too well regardless of whether we preprocess the data or not\n",
        "- The accuracy scores from the classification report has a maximum value of 49%\n",
        "- Since this dataset involves retweets and comments, there might not be a lot of \"sentiment\" associated with a sentence which could be why VADER tends to underperform.\n",
        "\n",
        "## Performance comparison\n",
        "\n",
        "- There's no major difference in performance whether we perform sentiment analysis on raw data or on preprocessed data\n",
        "- The positive sentences are getting classified with most accuracy, then negative.\n",
        "- It's unable to capture tweets with neutral sentiment with high accuracy.\n",
        "\n"
      ],
      "metadata": {
        "id": "rbs-2JeTejgL"
      }
    },
    {
      "cell_type": "markdown",
      "source": [
        "## Extra: Custom Classifier"
      ],
      "metadata": {
        "id": "sFLNXE9OnFNt"
      }
    },
    {
      "cell_type": "code",
      "source": [
        "from sklearn.linear_model import LogisticRegression\n",
        "from sklearn.model_selection import train_test_split\n",
        "from sklearn.feature_extraction.text import TfidfVectorizer"
      ],
      "metadata": {
        "id": "tDpdT4X3k2Xy"
      },
      "execution_count": 32,
      "outputs": []
    },
    {
      "cell_type": "code",
      "source": [
        "vectorizer = TfidfVectorizer()"
      ],
      "metadata": {
        "id": "67yps_7soZY7"
      },
      "execution_count": 33,
      "outputs": []
    },
    {
      "cell_type": "code",
      "source": [
        "X = vectorizer.fit_transform(df_tweets['text'])\n",
        "y = df_tweets['airline_sentiment_num_gt']"
      ],
      "metadata": {
        "id": "oZ_0WSLlohqJ"
      },
      "execution_count": 34,
      "outputs": []
    },
    {
      "cell_type": "code",
      "source": [
        "x_train, x_test, y_train, y_test = train_test_split(X, y,\n",
        "                                                    test_size=0.2)"
      ],
      "metadata": {
        "id": "M9Joey95nQmO"
      },
      "execution_count": 35,
      "outputs": []
    },
    {
      "cell_type": "code",
      "source": [
        "model = LogisticRegression()\n",
        "model.fit(x_train, y_train)"
      ],
      "metadata": {
        "colab": {
          "base_uri": "https://localhost:8080/"
        },
        "id": "CsD-B2FlnpeQ",
        "outputId": "25cdcad7-ac7b-4cd8-8286-33c87bbc7517"
      },
      "execution_count": 36,
      "outputs": [
        {
          "output_type": "execute_result",
          "data": {
            "text/plain": [
              "LogisticRegression()"
            ]
          },
          "metadata": {},
          "execution_count": 36
        }
      ]
    },
    {
      "cell_type": "code",
      "source": [
        "y_pred= model.predict(x_test)"
      ],
      "metadata": {
        "id": "sWjZpYUFn-BX"
      },
      "execution_count": 37,
      "outputs": []
    },
    {
      "cell_type": "code",
      "source": [
        "accuracy_score(y_test, y_pred)"
      ],
      "metadata": {
        "colab": {
          "base_uri": "https://localhost:8080/"
        },
        "id": "FqEb4diFouUV",
        "outputId": "4e5179ab-fec4-4658-a8df-28597103b5ef"
      },
      "execution_count": 38,
      "outputs": [
        {
          "output_type": "execute_result",
          "data": {
            "text/plain": [
              "0.8090846994535519"
            ]
          },
          "metadata": {},
          "execution_count": 38
        }
      ]
    },
    {
      "cell_type": "code",
      "source": [
        "confusion_matrix(y_test, y_pred)"
      ],
      "metadata": {
        "colab": {
          "base_uri": "https://localhost:8080/"
        },
        "id": "HJgpvxWgoxyc",
        "outputId": "8ad48f90-99f2-4f38-a029-063264376cd9"
      },
      "execution_count": 39,
      "outputs": [
        {
          "output_type": "execute_result",
          "data": {
            "text/plain": [
              "array([[ 326,   50,  253],\n",
              "       [  48,  305,  123],\n",
              "       [  61,   24, 1738]])"
            ]
          },
          "metadata": {},
          "execution_count": 39
        }
      ]
    },
    {
      "cell_type": "code",
      "source": [
        "print(classification_report(y_test, y_pred,\n",
        "                            target_names=['neutral', 'positive', 'negative']))"
      ],
      "metadata": {
        "colab": {
          "base_uri": "https://localhost:8080/"
        },
        "id": "oBneuCU9o0bh",
        "outputId": "442fb294-32f5-424b-93b4-dda91199153d"
      },
      "execution_count": 40,
      "outputs": [
        {
          "output_type": "stream",
          "name": "stdout",
          "text": [
            "              precision    recall  f1-score   support\n",
            "\n",
            "     neutral       0.75      0.52      0.61       629\n",
            "    positive       0.80      0.64      0.71       476\n",
            "    negative       0.82      0.95      0.88      1823\n",
            "\n",
            "    accuracy                           0.81      2928\n",
            "   macro avg       0.79      0.70      0.74      2928\n",
            "weighted avg       0.80      0.81      0.80      2928\n",
            "\n"
          ]
        }
      ]
    },
    {
      "cell_type": "code",
      "source": [
        "model.predict(vectorizer.transform([\"@VirginAmerica's services suck\"]))"
      ],
      "metadata": {
        "colab": {
          "base_uri": "https://localhost:8080/"
        },
        "id": "X6M-oN8Wo5mL",
        "outputId": "6ba59b90-6d68-45a3-ef93-7b96c40bdcd3"
      },
      "execution_count": 49,
      "outputs": [
        {
          "output_type": "execute_result",
          "data": {
            "text/plain": [
              "array([0])"
            ]
          },
          "metadata": {},
          "execution_count": 49
        }
      ]
    },
    {
      "cell_type": "code",
      "source": [
        "model.predict(vectorizer.transform([\"americanairlines is amazing\"]))"
      ],
      "metadata": {
        "colab": {
          "base_uri": "https://localhost:8080/"
        },
        "id": "fhnyqDnypVux",
        "outputId": "ff931551-99ad-4394-95c5-cf30ba66da45"
      },
      "execution_count": 42,
      "outputs": [
        {
          "output_type": "execute_result",
          "data": {
            "text/plain": [
              "array([1])"
            ]
          },
          "metadata": {},
          "execution_count": 42
        }
      ]
    },
    {
      "cell_type": "code",
      "source": [
        "model.predict(vectorizer.transform([\"the service was not great but the food was good\"]))"
      ],
      "metadata": {
        "colab": {
          "base_uri": "https://localhost:8080/"
        },
        "id": "UnPaRMjPppaX",
        "outputId": "e44847fe-6ea4-4447-8edc-24fb9ccf9b05"
      },
      "execution_count": 43,
      "outputs": [
        {
          "output_type": "execute_result",
          "data": {
            "text/plain": [
              "array([1])"
            ]
          },
          "metadata": {},
          "execution_count": 43
        }
      ]
    },
    {
      "cell_type": "markdown",
      "source": [
        "- From the custom classification, we can see there is a test accuracy of 81%\n",
        "- For a custom test case `americanairlines is amazing`, we see the classifier is classifying it correctly as `positive`\n",
        "- `@VirginAmerica's services suck` has a `negative` classification.\n",
        "- Confusion Matrix\n",
        "``` \n",
        "[[ 326,   50,  253],\n",
        "[  48,  305,  123],\n",
        "[  61,   24, 1738]]\n",
        "``` \n",
        "- From here we can see that most of the statements are correctly classified (seen with the diagnoal values)"
      ],
      "metadata": {
        "id": "di1eRRqLY5cV"
      }
    }
  ]
}